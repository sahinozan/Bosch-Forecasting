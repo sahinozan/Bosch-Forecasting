{
 "cells": [
  {
   "cell_type": "code",
   "execution_count": null,
   "metadata": {
    "ExecuteTime": {
     "start_time": "2023-04-13T01:13:50.161934Z",
     "end_time": "2023-04-13T01:13:51.151840Z"
    },
    "collapsed": true
   },
   "outputs": [],
   "source": [
    "import warnings\n",
    "from helper import *\n",
    "from pprint import pprint"
   ]
  },
  {
   "cell_type": "code",
   "execution_count": null,
   "metadata": {
    "ExecuteTime": {
     "start_time": "2023-04-13T01:13:51.152542Z",
     "end_time": "2023-04-13T01:13:51.154023Z"
    },
    "collapsed": false
   },
   "outputs": [],
   "source": [
    "warnings.filterwarnings(\"ignore\")"
   ]
  },
  {
   "cell_type": "code",
   "execution_count": null,
   "metadata": {
    "ExecuteTime": {
     "start_time": "2023-04-13T01:13:51.154942Z",
     "end_time": "2023-04-13T01:13:51.157257Z"
    },
    "collapsed": false
   },
   "outputs": [],
   "source": [
    "file_dict, file_dir, master_dir = get_data_files()"
   ]
  },
  {
   "cell_type": "code",
   "execution_count": null,
   "metadata": {
    "ExecuteTime": {
     "start_time": "2023-04-13T01:13:51.159173Z",
     "end_time": "2023-04-13T01:13:51.160750Z"
    },
    "collapsed": false
   },
   "outputs": [],
   "source": [
    "master_df = pd.DataFrame()"
   ]
  },
  {
   "cell_type": "code",
   "execution_count": null,
   "metadata": {
    "ExecuteTime": {
     "start_time": "2023-04-13T01:13:51.162585Z",
     "end_time": "2023-04-13T01:13:51.164023Z"
    },
    "collapsed": false
   },
   "outputs": [],
   "source": [
    "# get the file indexes\n",
    "available_file_indexes = [{a: [c.split(\"_\")[0][2:] for c in sorted(b)]} for a, b in file_dict.items()]\n",
    "available_file_indexes = {k: v for d in available_file_indexes for k, v in d.items()}"
   ]
  },
  {
   "cell_type": "code",
   "execution_count": null,
   "metadata": {
    "ExecuteTime": {
     "start_time": "2023-04-13T01:13:51.164786Z",
     "end_time": "2023-04-13T01:13:51.166561Z"
    },
    "collapsed": false
   },
   "outputs": [],
   "source": [
    "# sort the file_dict by the file name number\n",
    "for year, files in file_dict.items():\n",
    "    file_dict[year] = sorted(files, key=lambda x: int(x.split(\"_\")[0][2:]))"
   ]
  },
  {
   "cell_type": "code",
   "execution_count": null,
   "metadata": {
    "ExecuteTime": {
     "start_time": "2023-04-13T01:13:51.167322Z",
     "end_time": "2023-04-13T01:13:53.891312Z"
    },
    "collapsed": false
   },
   "outputs": [],
   "source": [
    "# find top 20 pipes for every file\n",
    "for year, files in file_dict.items():\n",
    "    access_index = 0\n",
    "    for index in available_file_indexes[year]:\n",
    "        master_df = find_common_pipes(file_index=access_index, file_year=year, top_level_df=master_df,\n",
    "                                      file_dict=file_dict, master_dir=master_dir, threshold=50)\n",
    "        access_index += 1"
   ]
  },
  {
   "cell_type": "code",
   "execution_count": null,
   "metadata": {
    "ExecuteTime": {
     "start_time": "2023-04-13T01:13:53.893266Z",
     "end_time": "2023-04-13T01:13:53.895102Z"
    },
    "collapsed": false
   },
   "outputs": [],
   "source": [
    "# transpose the dataframe\n",
    "master_df_T = master_df.copy().T\n",
    "master_df_T.columns, master_df_T.loc[\"X\", :] = master_df_T.loc[[\"X\"], :].values[0], master_df_T.columns"
   ]
  },
  {
   "cell_type": "code",
   "execution_count": null,
   "metadata": {
    "ExecuteTime": {
     "start_time": "2023-04-13T01:13:53.897236Z",
     "end_time": "2023-04-13T01:13:53.902277Z"
    },
    "collapsed": false
   },
   "outputs": [],
   "source": [
    "# create multilevel columns\n",
    "exp_df = pd.DataFrame(columns=pd.MultiIndex.from_product([master_df_T.columns, [\"Pipe TTNr\", \"Total\"]]).unique())"
   ]
  },
  {
   "cell_type": "code",
   "execution_count": null,
   "metadata": {
    "ExecuteTime": {
     "start_time": "2023-04-13T01:13:53.903170Z",
     "end_time": "2023-04-13T01:13:53.911785Z"
    },
    "collapsed": false
   },
   "outputs": [],
   "source": [
    "# add the data to the multilevel columns\n",
    "for i in range(len(master_df_T)):\n",
    "    exp_df.loc[i, :] = master_df_T.iloc[i, :].values"
   ]
  },
  {
   "cell_type": "code",
   "execution_count": null,
   "metadata": {
    "ExecuteTime": {
     "start_time": "2023-04-13T01:13:53.912576Z",
     "end_time": "2023-04-13T01:13:53.917139Z"
    },
    "collapsed": false
   },
   "outputs": [],
   "source": [
    "# drop the unnecessary index\n",
    "exp_df = exp_df.copy().drop(index=0, inplace=False)"
   ]
  },
  {
   "cell_type": "code",
   "execution_count": null,
   "outputs": [],
   "source": [
    "exp_df"
   ],
   "metadata": {
    "collapsed": false,
    "ExecuteTime": {
     "start_time": "2023-04-13T01:15:38.341132Z",
     "end_time": "2023-04-13T01:15:38.345104Z"
    }
   }
  },
  {
   "cell_type": "code",
   "execution_count": null,
   "metadata": {
    "ExecuteTime": {
     "start_time": "2023-04-13T01:13:53.930887Z",
     "end_time": "2023-04-13T01:13:54.197832Z"
    },
    "collapsed": false
   },
   "outputs": [],
   "source": [
    "# create two sheets in the Excel file\n",
    "with pd.ExcelWriter(file_dir, engine=\"openpyxl\", mode=\"w\") as writer:\n",
    "    exp_df.to_excel(writer, sheet_name='General')\n",
    "    exp_df.T.to_excel(writer, sheet_name='Experimental')"
   ]
  },
  {
   "cell_type": "code",
   "execution_count": null,
   "metadata": {
    "ExecuteTime": {
     "start_time": "2023-04-13T01:13:54.199855Z",
     "end_time": "2023-04-13T01:13:54.202308Z"
    },
    "collapsed": false
   },
   "outputs": [],
   "source": [
    "# create multi-level index\n",
    "three_level_columns = create_three_level_index(df=exp_df)\n",
    "\n",
    "# # set the multi-level index\n",
    "exp_df_th = exp_df.copy()\n",
    "exp_df_th.columns = pd.MultiIndex.from_tuples(three_level_columns)"
   ]
  },
  {
   "cell_type": "code",
   "execution_count": null,
   "metadata": {
    "ExecuteTime": {
     "start_time": "2023-04-13T01:13:54.202783Z",
     "end_time": "2023-04-13T01:13:56.196799Z"
    },
    "collapsed": false
   },
   "outputs": [],
   "source": [
    "# format the Excel files\n",
    "format_general_sheet(file_dir=file_dir)\n",
    "format_experimental_sheet(file_dir=file_dir)"
   ]
  },
  {
   "cell_type": "code",
   "execution_count": null,
   "metadata": {
    "ExecuteTime": {
     "start_time": "2023-04-13T01:13:56.197310Z",
     "end_time": "2023-04-13T01:13:56.582704Z"
    },
    "collapsed": false
   },
   "outputs": [],
   "source": [
    "create_bar_plot(df=exp_df_th,\n",
    "                selected_year=2021,\n",
    "                file_index=\"16\",\n",
    "                ascending=True,\n",
    "                threshold=20)"
   ]
  },
  {
   "cell_type": "code",
   "execution_count": null,
   "metadata": {
    "ExecuteTime": {
     "start_time": "2023-04-13T01:13:56.588925Z",
     "end_time": "2023-04-13T01:13:56.591823Z"
    },
    "collapsed": false
   },
   "outputs": [],
   "source": [
    "exp_df.head()"
   ]
  },
  {
   "cell_type": "code",
   "execution_count": null,
   "outputs": [],
   "source": [
    "len(exp_df.iloc[:, 0])"
   ],
   "metadata": {
    "collapsed": false,
    "ExecuteTime": {
     "start_time": "2023-04-13T01:46:08.575763Z",
     "end_time": "2023-04-13T01:46:08.581376Z"
    }
   }
  },
  {
   "cell_type": "code",
   "execution_count": null,
   "metadata": {
    "ExecuteTime": {
     "start_time": "2023-04-13T01:13:56.592226Z",
     "end_time": "2023-04-13T01:13:56.598152Z"
    },
    "collapsed": false
   },
   "outputs": [],
   "source": [
    "pipe_codes = exp_df.iloc[:, ::2].values.flatten()\n",
    "unique_pipes = np.array(list(set(pipe_codes)))"
   ]
  },
  {
   "cell_type": "code",
   "execution_count": null,
   "metadata": {
    "ExecuteTime": {
     "start_time": "2023-04-13T01:13:56.595713Z",
     "end_time": "2023-04-13T01:13:57.306579Z"
    },
    "collapsed": false
   },
   "outputs": [],
   "source": [
    "vertical_df = pd.DataFrame()\n",
    "\n",
    "for i in range(0, len(exp_df.columns), 2):\n",
    "    temp = exp_df.copy().iloc[:, i:i + 2]\n",
    "    temp.columns = ['Pipe TTNr', 'Total']\n",
    "    vertical_df = pd.concat([vertical_df, temp], axis=0, ignore_index=True)"
   ]
  },
  {
   "cell_type": "code",
   "execution_count": null,
   "metadata": {
    "ExecuteTime": {
     "start_time": "2023-04-13T01:13:56.616460Z",
     "end_time": "2023-04-13T01:13:57.306776Z"
    },
    "collapsed": false
   },
   "outputs": [],
   "source": [
    "# get the rows with unique pipes\n",
    "unique_pipe_rows = vertical_df[\"Pipe TTNr\"].unique()"
   ]
  },
  {
   "cell_type": "code",
   "execution_count": null,
   "metadata": {
    "ExecuteTime": {
     "start_time": "2023-04-13T01:13:56.620578Z",
     "end_time": "2023-04-13T01:13:57.306920Z"
    },
    "collapsed": false
   },
   "outputs": [],
   "source": [
    "# add the total column for the rows with same Pipe TTNr\n",
    "for i in range(len(unique_pipe_rows)):\n",
    "    vertical_df.loc[vertical_df[\"Pipe TTNr\"] == unique_pipe_rows[i], \"Total\"] = \\\n",
    "        vertical_df.loc[vertical_df[\"Pipe TTNr\"] == unique_pipe_rows[i], \"Total\"].sum()"
   ]
  },
  {
   "cell_type": "code",
   "execution_count": null,
   "metadata": {
    "ExecuteTime": {
     "start_time": "2023-04-13T01:13:56.709704Z",
     "end_time": "2023-04-13T01:13:57.306959Z"
    },
    "collapsed": false
   },
   "outputs": [],
   "source": [
    "# drop duplicate Pipe TTNrs\n",
    "final_df = vertical_df.drop_duplicates(subset=\"Pipe TTNr\",\n",
    "                                       keep=\"first\",\n",
    "                                       inplace=False,\n",
    "                                       ignore_index=True).sort_values(by=\"Total\", ascending=False).copy()\n",
    "final_df = final_df.reset_index(drop=True, inplace=False).copy()"
   ]
  },
  {
   "cell_type": "code",
   "execution_count": null,
   "metadata": {
    "ExecuteTime": {
     "start_time": "2023-04-13T01:13:56.711957Z",
     "end_time": "2023-04-13T01:13:57.307002Z"
    },
    "collapsed": false
   },
   "outputs": [],
   "source": [
    "final_df['Pipe TTNr'] = final_df['Pipe TTNr'].astype(str)"
   ]
  },
  {
   "cell_type": "code",
   "execution_count": null,
   "metadata": {
    "ExecuteTime": {
     "start_time": "2023-04-13T01:13:56.717850Z",
     "end_time": "2023-04-13T01:13:57.307119Z"
    },
    "collapsed": false
   },
   "outputs": [],
   "source": [
    "final_df.loc[final_df[\"Pipe TTNr\"].apply(lambda x: x.isnumeric()), :].copy()"
   ]
  },
  {
   "cell_type": "code",
   "execution_count": null,
   "metadata": {
    "ExecuteTime": {
     "start_time": "2023-04-13T01:13:56.722245Z",
     "end_time": "2023-04-13T01:13:57.307201Z"
    },
    "collapsed": false
   },
   "outputs": [],
   "source": [
    "unique_pipe_bar_plot(pipe_df=final_df,\n",
    "                     total_quantity_limit=50000,\n",
    "                     fig_size=(16, 7),\n",
    "                     rotation='vertical',\n",
    "                     ascending=True)"
   ]
  },
  {
   "cell_type": "code",
   "execution_count": null,
   "outputs": [],
   "source": [
    "pipes_dict = {}\n",
    "\n",
    "for i in range(0, len(exp_df.columns), 2):\n",
    "    temp = exp_df.copy().iloc[:, i:i + 2]\n",
    "    pipes_dict[temp.columns[0][0]] = temp[(temp.columns[0][0], 'Pipe TTNr')].unique()\n",
    "\n",
    "pprint(pipes_dict)"
   ],
   "metadata": {
    "collapsed": false,
    "ExecuteTime": {
     "start_time": "2023-04-13T01:13:57.012716Z",
     "end_time": "2023-04-13T01:13:57.307436Z"
    }
   }
  },
  {
   "cell_type": "code",
   "execution_count": null,
   "outputs": [],
   "source": [
    "# count the number of occurrences for each pipe and which weeks it occurs\n",
    "pipe_occurrences, week_occurrences = {}, {}\n",
    "\n",
    "for key, value in pipes_dict.items():\n",
    "    for pipe in value:\n",
    "        if pipe in pipe_occurrences.keys():\n",
    "            pipe_occurrences[pipe] += 1\n",
    "            week_occurrences[pipe].append(key)\n",
    "        else:\n",
    "            pipe_occurrences[pipe] = 1\n",
    "            week_occurrences[pipe] = [key]\n",
    "\n",
    "merged_dict = {k: [pipe_occurrences[k], week_occurrences[k]] for k in pipe_occurrences.keys()}"
   ],
   "metadata": {
    "collapsed": false,
    "ExecuteTime": {
     "start_time": "2023-04-13T01:13:57.041752Z",
     "end_time": "2023-04-13T01:13:57.307472Z"
    }
   }
  },
  {
   "cell_type": "code",
   "execution_count": null,
   "outputs": [],
   "source": [
    "# create a dataframe from the dictionary\n",
    "pipe_occurrences_df = pd.DataFrame.from_dict(merged_dict, orient='index', columns=['Occurrences', 'Weeks'])\n",
    "pipe_occurrences_df.sort_values(by=\"Occurrences\", ascending=False, inplace=False)"
   ],
   "metadata": {
    "collapsed": false,
    "ExecuteTime": {
     "start_time": "2023-04-13T01:14:07.816002Z",
     "end_time": "2023-04-13T01:14:07.821350Z"
    }
   }
  },
  {
   "cell_type": "code",
   "execution_count": null,
   "outputs": [],
   "source": [
    "pipes_in_70_df = pipe_occurrences_df.loc[pipe_occurrences_df[\"Occurrences\"] > 70, :].sort_values(by=\"Occurrences\",\n",
    "                                                                                                 ascending=False)\n",
    "pipes_in_70_df"
   ],
   "metadata": {
    "collapsed": false,
    "ExecuteTime": {
     "start_time": "2023-04-13T01:14:08.282301Z",
     "end_time": "2023-04-13T01:14:08.287789Z"
    }
   }
  },
  {
   "cell_type": "code",
   "execution_count": null,
   "outputs": [],
   "source": [
    "pipes_in_70_df = pipes_in_70_df.reset_index(inplace=False).copy()\n",
    "pipes_in_70_df = pipes_in_70_df.rename(columns={\"index\": \"Pipe TTNr\"}, inplace=False).copy()"
   ],
   "metadata": {
    "collapsed": false,
    "ExecuteTime": {
     "start_time": "2023-04-13T01:14:08.711411Z",
     "end_time": "2023-04-13T01:14:08.716391Z"
    }
   }
  },
  {
   "cell_type": "code",
   "execution_count": null,
   "outputs": [],
   "source": [
    "pipes_in_70 = pipes_in_70_df['Pipe TTNr'].values\n",
    "pipes_in_70"
   ],
   "metadata": {
    "collapsed": false,
    "ExecuteTime": {
     "start_time": "2023-04-13T01:39:48.755595Z",
     "end_time": "2023-04-13T01:39:48.765936Z"
    }
   }
  },
  {
   "cell_type": "code",
   "execution_count": null,
   "outputs": [],
   "source": [
    "all_in_one = pd.DataFrame()"
   ],
   "metadata": {
    "collapsed": false,
    "ExecuteTime": {
     "start_time": "2023-04-13T01:39:50.277029Z",
     "end_time": "2023-04-13T01:39:50.285147Z"
    }
   }
  },
  {
   "cell_type": "code",
   "execution_count": null,
   "outputs": [],
   "source": [
    "for year, plan in file_dict.items():\n",
    "    for file in plan:\n",
    "        df = pd.read_excel(f'{master_dir}/{str(year)}/{file}', sheet_name='Pivot')\n",
    "        df = df.fillna(0)\n",
    "        df.iloc[:, 5:26] = df.iloc[:, 5:26].apply(pd.to_numeric, errors='coerce')\n",
    "        df['Total'] = df.iloc[:, 5:26].sum(axis=1)\n",
    "        df.loc[\"Hat\", \"Total\"] = 0\n",
    "        df = df.sort_values(by=['Total'], inplace=False, ascending=False, ignore_index=True).copy()\n",
    "\n",
    "        aa = df.iloc[:, [1, -1]].copy()\n",
    "        aa.index.name = aa.columns[0].split(\" \")[3]\n",
    "        aa.columns = ['Pipe TTNr', aa.columns[-1]]\n",
    "\n",
    "        aa = aa.loc[aa['Pipe TTNr'].isin(pipes_in_70), :].copy()\n",
    "        aa.reset_index(inplace=True)\n"
   ],
   "metadata": {
    "collapsed": false,
    "ExecuteTime": {
     "start_time": "2023-04-13T01:44:14.144063Z",
     "end_time": "2023-04-13T01:44:16.875301Z"
    }
   }
  }
 ],
 "metadata": {
  "kernelspec": {
   "display_name": "Python 3",
   "language": "python",
   "name": "python3"
  },
  "language_info": {
   "codemirror_mode": {
    "name": "ipython",
    "version": 3
   },
   "file_extension": ".py",
   "mimetype": "text/x-python",
   "name": "python",
   "nbconvert_exporter": "python",
   "pygments_lexer": "ipython3",
   "version": "3.10.8"
  }
 },
 "nbformat": 4,
 "nbformat_minor": 0
}
