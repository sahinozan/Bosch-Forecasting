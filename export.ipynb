{
 "cells": [
  {
   "cell_type": "code",
   "execution_count": 1270,
   "metadata": {},
   "outputs": [],
   "source": [
    "import pandas as pd\n",
    "from openpyxl import Workbook, load_workbook\n",
    "from openpyxl.styles import Font, Alignment, Border, Side\n",
    "import numpy as np\n",
    "import warnings\n",
    "import os\n",
    "\n",
    "warnings.filterwarnings('ignore')"
   ]
  },
  {
   "cell_type": "code",
   "execution_count": 1271,
   "metadata": {},
   "outputs": [
    {
     "data": {
      "text/plain": [
       "['CW49', 'CW48', 'CW47', 'CW46', 'CW45']"
      ]
     },
     "execution_count": 1271,
     "metadata": {},
     "output_type": "execute_result"
    }
   ],
   "source": [
    "sheets = []\n",
    "\n",
    "for sheet in pd.read_excel(f'{os.getcwd()}/export_2022.xlsx', sheet_name=None):\n",
    "    wb = Workbook()\n",
    "    ws = wb.active\n",
    "    sheet_name = sheet\n",
    "    sheets.append(sheet_name)\n",
    "\n",
    "sheets[:5]"
   ]
  },
  {
   "cell_type": "code",
   "execution_count": 1272,
   "metadata": {},
   "outputs": [],
   "source": [
    "initial_dfs = {}\n",
    "\n",
    "for sheet in sheets:\n",
    "    initial_df = pd.read_excel(f'{os.getcwd()}/export_2022.xlsx', sheet_name=sheet)\n",
    "    initial_dfs[sheet] = initial_df"
   ]
  },
  {
   "cell_type": "code",
   "execution_count": 1273,
   "metadata": {},
   "outputs": [],
   "source": [
    "for i in initial_dfs:\n",
    "    initial_dfs[i] = initial_dfs[i].fillna(0)\n",
    "    for j in initial_dfs[i].columns:\n",
    "        if type(j) == pd.datetime:\n",
    "            initial_dfs[i].rename(columns={j: j.date()}, inplace=True)"
   ]
  },
  {
   "cell_type": "code",
   "execution_count": 1274,
   "metadata": {},
   "outputs": [],
   "source": [
    "initial_dfs['CW42'] = initial_dfs['CW42'].drop(initial_dfs['CW42'].columns[1], axis=1, inplace=False).copy()\n",
    "initial_dfs['CW42'] = initial_dfs['CW42'].rename(columns={initial_dfs['CW42'].columns[0]: 'Malzeme'}, inplace=False).copy()"
   ]
  },
  {
   "cell_type": "code",
   "execution_count": 1275,
   "metadata": {},
   "outputs": [],
   "source": [
    "initial_dfs['CW1'] = initial_dfs['CW1'].rename(columns={initial_dfs['CW1'].columns[0]: 'Malzeme'}, inplace=False).copy()\n",
    "initial_dfs['CW2'] = initial_dfs['CW2'].rename(columns={initial_dfs['CW2'].columns[0]: 'Malzeme'}, inplace=False)\n",
    "initial_dfs['CW2'] = initial_dfs['CW2'].rename(columns={initial_dfs['CW2'].columns[1]: 'Toplam Adet'}, inplace=False).copy()"
   ]
  },
  {
   "cell_type": "code",
   "execution_count": 1276,
   "metadata": {},
   "outputs": [],
   "source": [
    "initial_dfs['CW3'] = initial_dfs['CW3'].rename(columns={initial_dfs['CW3'].columns[0]: 'Malzeme'}, inplace=False).copy()\n",
    "initial_dfs['CW3'] = initial_dfs['CW3'].rename(columns={initial_dfs['CW3'].columns[1]: 'Toplam Adet'}, inplace=False).copy()"
   ]
  },
  {
   "cell_type": "code",
   "execution_count": 1277,
   "metadata": {},
   "outputs": [],
   "source": [
    "initial_totals = {}\n",
    "\n",
    "for i in initial_dfs:\n",
    "    for j in initial_dfs[i].columns:\n",
    "        if type(j) == str and j.strip() == 'Toplam Sipariş':\n",
    "            initial_dfs[i] = initial_dfs[i].rename(columns={j: 'Toplam Adet'}, inplace=False).copy()"
   ]
  },
  {
   "cell_type": "code",
   "execution_count": 1278,
   "metadata": {},
   "outputs": [],
   "source": [
    "for i in initial_dfs:\n",
    "    if 'Toplam Adet' in initial_dfs[i].columns:\n",
    "        initial_totals[i] = initial_dfs[i]['Toplam Adet']\n",
    "        initial_dfs[i] = initial_dfs[i].drop('Toplam Adet', axis=1, inplace=False).copy()"
   ]
  },
  {
   "cell_type": "code",
   "execution_count": 1279,
   "metadata": {},
   "outputs": [],
   "source": [
    "for i in initial_dfs:\n",
    "    if 'Total' not in initial_dfs[i].columns:\n",
    "        initial_dfs[i]['Total'] = initial_dfs[i].sum(axis=1).copy()\n",
    "    initial_dfs[i].sort_values(by=['Total'], ascending=False, inplace=True, ignore_index=True)"
   ]
  },
  {
   "cell_type": "code",
   "execution_count": 1280,
   "metadata": {},
   "outputs": [],
   "source": [
    "for i in initial_dfs:\n",
    "    initial_dfs[i] = initial_dfs[i].rename(columns={'Malzeme': 'Pipe TTNr'}, inplace=False).copy()"
   ]
  },
  {
   "cell_type": "code",
   "execution_count": 1281,
   "metadata": {},
   "outputs": [],
   "source": [
    "for i in initial_dfs:\n",
    "    if initial_dfs[i].index.start != 1:\n",
    "        initial_dfs[i].index += 1"
   ]
  },
  {
   "cell_type": "code",
   "execution_count": 1282,
   "metadata": {},
   "outputs": [],
   "source": [
    "for i in initial_dfs:\n",
    "    initial_dfs[i] = initial_dfs[i][initial_dfs[i]['Total'] != 0].copy()"
   ]
  },
  {
   "cell_type": "code",
   "execution_count": 1283,
   "metadata": {},
   "outputs": [],
   "source": [
    "all_pipes = []\n",
    "\n",
    "for i in initial_dfs:\n",
    "    local_pipes = [str(i).strip() for i in initial_dfs[i]['Pipe TTNr'].unique()]\n",
    "    all_pipes.extend(local_pipes)\n",
    "    all_pipes = list(set(all_pipes))"
   ]
  },
  {
   "cell_type": "code",
   "execution_count": 1284,
   "metadata": {},
   "outputs": [],
   "source": [
    "for i, pipe in enumerate(all_pipes):\n",
    "    if \"-\" in pipe:\n",
    "        all_pipes[i] = \"\".join(pipe.split(\"-\")).strip()"
   ]
  },
  {
   "cell_type": "code",
   "execution_count": 1285,
   "metadata": {},
   "outputs": [],
   "source": [
    "unique_pipes = list(set(all_pipes))"
   ]
  },
  {
   "cell_type": "code",
   "execution_count": 1286,
   "metadata": {},
   "outputs": [],
   "source": [
    "for i in initial_dfs:\n",
    "    initial_dfs[i]['Pipe TTNr'] = initial_dfs[i]['Pipe TTNr'].astype(str)\n",
    "    initial_dfs[i]['Pipe TTNr'] = initial_dfs[i]['Pipe TTNr'].apply(lambda x: \"\".join(x.split(\"-\")).strip())"
   ]
  },
  {
   "cell_type": "code",
   "execution_count": 1287,
   "metadata": {},
   "outputs": [],
   "source": [
    "with pd.ExcelWriter(f'{os.getcwd()}/modified_export_2022.xlsx', engine='openpyxl', mode='w') as writer:\n",
    "    for i in initial_dfs:\n",
    "        initial_dfs[i].to_excel(writer, sheet_name=i, index=True)"
   ]
  },
  {
   "cell_type": "code",
   "execution_count": 1288,
   "metadata": {},
   "outputs": [],
   "source": [
    "wb = load_workbook(f'{os.getcwd()}/modified_export_2022.xlsx')\n",
    "for sheet in wb.sheetnames:\n",
    "    ws = wb[sheet]\n",
    "    \n",
    "    for i in range(1, ws.max_row + 1):\n",
    "        ws.row_dimensions[i].height = 20\n",
    "\n",
    "    for i in range(2, ws.max_column + 1):\n",
    "        ws.column_dimensions[ws.cell(row=1, column=i).column_letter].width = 20\n",
    "\n",
    "    for i in range(1, 2):\n",
    "        ws.column_dimensions[ws.cell(row=1, column=i).column_letter].width = 12\n",
    "\n",
    "    for i in range(1, ws.max_row + 1):\n",
    "        for j in range(1, ws.max_column + 1):\n",
    "            ws.cell(row=i, column=j).alignment = Alignment(horizontal='center', vertical='center', wrap_text=True)\n",
    "\n",
    "    for i in range(1, ws.max_row + 1):\n",
    "        for j in range(1, ws.max_column + 1):\n",
    "            ws.cell(row=i, column=j).font = Font(size=10)\n",
    "\n",
    "    for i in range(1, ws.max_row + 1):\n",
    "        for j in range(1, ws.max_column + 1):\n",
    "            ws.cell(row=i, column=1).font = Font(size=12, bold=True)\n",
    "\n",
    "    for i in range(1, ws.max_row + 1):\n",
    "        for j in range(1, ws.max_column + 1):\n",
    "            ws.cell(row=1, column=j).font = Font(size=12, bold=True)\n",
    "\n",
    "    for i in range(1, ws.max_row + 1):\n",
    "        for j in range(1, ws.max_column + 1):\n",
    "            ws.cell(row=i, column=j).border = Border(left=Side(border_style='thin', color='000000'),\n",
    "                                                    right=Side(border_style='thin', color='000000'),\n",
    "                                                    top=Side(border_style='thin', color='000000'),\n",
    "                                                    bottom=Side(border_style='thin', color='000000'))\n",
    "\n",
    "    for i in range(1, ws.max_row + 1):\n",
    "        for j in range(1, ws.max_column + 1):\n",
    "            if ws.cell(row=i, column=j).value == 0:\n",
    "                ws.cell(row=i, column=j).value = np.nan\n",
    "    \n",
    "wb.save(f'{os.getcwd()}/modified_export_2022.xlsx')"
   ]
  },
  {
   "cell_type": "code",
   "execution_count": 1289,
   "metadata": {},
   "outputs": [],
   "source": [
    "exports_per_pipe = {}\n",
    "\n",
    "for i in initial_dfs:\n",
    "    exports_per_pipe[i] = initial_dfs[i].set_index('Pipe TTNr')['Total'].to_dict()"
   ]
  },
  {
   "cell_type": "code",
   "execution_count": 1290,
   "metadata": {},
   "outputs": [],
   "source": [
    "export_dfs = {}\n",
    "\n",
    "for i in exports_per_pipe:\n",
    "    export_dfs[i] = pd.DataFrame(exports_per_pipe[i].items(), columns=['Pipe TTNr', 'Total'])"
   ]
  },
  {
   "cell_type": "code",
   "execution_count": 1291,
   "metadata": {},
   "outputs": [],
   "source": [
    "exports_combined = {}\n",
    "\n",
    "for i in exports_per_pipe:\n",
    "    for j in exports_per_pipe[i]:\n",
    "        if j not in exports_combined:\n",
    "            exports_combined[j] = exports_per_pipe[i][j]\n",
    "        else:\n",
    "            # print(f'{j}: {exports_combined[j]} + {exports_per_pipe[i][j]} -> {exports_combined[j] + exports_per_pipe[i][j]}')\n",
    "            exports_combined[j] += exports_per_pipe[i][j]"
   ]
  },
  {
   "cell_type": "code",
   "execution_count": 1292,
   "metadata": {},
   "outputs": [],
   "source": [
    "exports_combined_df = pd.DataFrame.from_dict(exports_combined, orient='index', columns=['Total'])\n",
    "exports_combined_df = exports_combined_df.sort_values(by=['Total'], ascending=False, inplace=False)"
   ]
  },
  {
   "cell_type": "code",
   "execution_count": 1293,
   "metadata": {},
   "outputs": [
    {
     "data": {
      "text/plain": [
       "['87167644199',\n",
       " '87167638629',\n",
       " '8718672348T03',\n",
       " '8750724192T03',\n",
       " '8718674696T03']"
      ]
     },
     "execution_count": 1293,
     "metadata": {},
     "output_type": "execute_result"
    }
   ],
   "source": [
    "most_common_pipes = exports_combined_df.head(20).index.tolist()\n",
    "most_common_pipes[:5]"
   ]
  },
  {
   "cell_type": "code",
   "execution_count": 1294,
   "metadata": {},
   "outputs": [],
   "source": [
    "all_dates = []\n",
    "\n",
    "for i in initial_dfs:\n",
    "    all_dates.extend(initial_dfs[i].columns.tolist()[1:-1])"
   ]
  },
  {
   "cell_type": "code",
   "execution_count": 1295,
   "metadata": {},
   "outputs": [],
   "source": [
    "exports_combined_df = exports_combined_df.reset_index(inplace=False).copy()\n",
    "\n",
    "if exports_combined_df.index[0] != 1:\n",
    "    exports_combined_df.index += 1\n",
    "\n",
    "exports_combined_df.columns = ['Pipe TTNr', 'Total']"
   ]
  },
  {
   "cell_type": "code",
   "execution_count": 1296,
   "metadata": {},
   "outputs": [],
   "source": [
    "with pd.ExcelWriter(f'{os.getcwd()}/modified_export_2022.xlsx', engine='openpyxl', mode='a') as writer:\n",
    "\n",
    "    if 'Combined' not in wb.sheetnames:\n",
    "        wb.create_sheet('Combined', 0)\n",
    "        wb.move_sheet('Combined', offset=-5)\n",
    "        exports_combined_df.to_excel(writer, sheet_name='Combined', index=True)\n",
    "    else:\n",
    "        exports_combined_df.to_excel(writer, sheet_name='Combined', index=True)\n",
    "\n",
    "wb = load_workbook(f'{os.getcwd()}/modified_export_2022.xlsx')\n",
    "ws = wb['Combined']\n",
    "\n",
    "for i in range(1, ws.max_row + 1):\n",
    "    ws.row_dimensions[i].height = 20\n",
    "\n",
    "for i in range(2, ws.max_column + 1):\n",
    "    ws.column_dimensions[ws.cell(row=1, column=i).column_letter].width = 20\n",
    "\n",
    "for i in range(1, 2):\n",
    "    ws.column_dimensions[ws.cell(row=1, column=i).column_letter].width = 12\n",
    "\n",
    "for i in range(1, ws.max_row + 1):\n",
    "    for j in range(1, ws.max_column + 1):\n",
    "        ws.cell(row=i, column=j).alignment = Alignment(horizontal='center', vertical='center', wrap_text=True)\n",
    "\n",
    "for i in range(1, ws.max_row + 1):\n",
    "    for j in range(1, ws.max_column + 1):\n",
    "        ws.cell(row=i, column=j).font = Font(size=10)\n",
    "\n",
    "for i in range(1, ws.max_row + 1):\n",
    "    for j in range(1, ws.max_column + 1):\n",
    "        ws.cell(row=i, column=1).font = Font(size=12, bold=True)\n",
    "\n",
    "for i in range(1, ws.max_row + 1):\n",
    "    for j in range(1, ws.max_column + 1):\n",
    "        ws.cell(row=1, column=j).font = Font(size=12, bold=True)\n",
    "\n",
    "for i in range(1, ws.max_row + 1):\n",
    "    for j in range(1, ws.max_column + 1):\n",
    "        ws.cell(row=i, column=j).border = Border(left=Side(border_style='thin', color='000000'),\n",
    "                                                right=Side(border_style='thin', color='000000'),\n",
    "                                                top=Side(border_style='thin', color='000000'),\n",
    "                                                bottom=Side(border_style='thin', color='000000'))\n",
    "\n",
    "wb.save(f'{os.getcwd()}/modified_export_2022.xlsx')"
   ]
  },
  {
   "cell_type": "code",
   "execution_count": 1298,
   "metadata": {},
   "outputs": [
    {
     "data": {
      "text/html": [
       "<div>\n",
       "<style scoped>\n",
       "    .dataframe tbody tr th:only-of-type {\n",
       "        vertical-align: middle;\n",
       "    }\n",
       "\n",
       "    .dataframe tbody tr th {\n",
       "        vertical-align: top;\n",
       "    }\n",
       "\n",
       "    .dataframe thead th {\n",
       "        text-align: right;\n",
       "    }\n",
       "</style>\n",
       "<table border=\"1\" class=\"dataframe\">\n",
       "  <thead>\n",
       "    <tr style=\"text-align: right;\">\n",
       "      <th></th>\n",
       "      <th>Pipe TTNr</th>\n",
       "      <th>Total</th>\n",
       "    </tr>\n",
       "  </thead>\n",
       "  <tbody>\n",
       "    <tr>\n",
       "      <th>1</th>\n",
       "      <td>87167644199</td>\n",
       "      <td>14490.0</td>\n",
       "    </tr>\n",
       "    <tr>\n",
       "      <th>2</th>\n",
       "      <td>87167638629</td>\n",
       "      <td>13400.0</td>\n",
       "    </tr>\n",
       "    <tr>\n",
       "      <th>3</th>\n",
       "      <td>8718672348T03</td>\n",
       "      <td>12800.0</td>\n",
       "    </tr>\n",
       "    <tr>\n",
       "      <th>4</th>\n",
       "      <td>8750724192T03</td>\n",
       "      <td>11250.0</td>\n",
       "    </tr>\n",
       "    <tr>\n",
       "      <th>5</th>\n",
       "      <td>8718674696T03</td>\n",
       "      <td>7750.0</td>\n",
       "    </tr>\n",
       "    <tr>\n",
       "      <th>...</th>\n",
       "      <td>...</td>\n",
       "      <td>...</td>\n",
       "    </tr>\n",
       "    <tr>\n",
       "      <th>63</th>\n",
       "      <td>87107158299</td>\n",
       "      <td>100.0</td>\n",
       "    </tr>\n",
       "    <tr>\n",
       "      <th>64</th>\n",
       "      <td>87107251375</td>\n",
       "      <td>100.0</td>\n",
       "    </tr>\n",
       "    <tr>\n",
       "      <th>65</th>\n",
       "      <td>87107250849</td>\n",
       "      <td>100.0</td>\n",
       "    </tr>\n",
       "    <tr>\n",
       "      <th>66</th>\n",
       "      <td>8705900537T03</td>\n",
       "      <td>50.0</td>\n",
       "    </tr>\n",
       "    <tr>\n",
       "      <th>67</th>\n",
       "      <td>87182264019</td>\n",
       "      <td>25.0</td>\n",
       "    </tr>\n",
       "  </tbody>\n",
       "</table>\n",
       "<p>67 rows × 2 columns</p>\n",
       "</div>"
      ],
      "text/plain": [
       "        Pipe TTNr    Total\n",
       "1     87167644199  14490.0\n",
       "2     87167638629  13400.0\n",
       "3   8718672348T03  12800.0\n",
       "4   8750724192T03  11250.0\n",
       "5   8718674696T03   7750.0\n",
       "..            ...      ...\n",
       "63    87107158299    100.0\n",
       "64    87107251375    100.0\n",
       "65    87107250849    100.0\n",
       "66  8705900537T03     50.0\n",
       "67    87182264019     25.0\n",
       "\n",
       "[67 rows x 2 columns]"
      ]
     },
     "execution_count": 1298,
     "metadata": {},
     "output_type": "execute_result"
    }
   ],
   "source": [
    "exports_combined_df"
   ]
  },
  {
   "cell_type": "code",
   "execution_count": null,
   "metadata": {},
   "outputs": [],
   "source": []
  }
 ],
 "metadata": {
  "kernelspec": {
   "display_name": "ec2",
   "language": "python",
   "name": "python3"
  },
  "language_info": {
   "codemirror_mode": {
    "name": "ipython",
    "version": 3
   },
   "file_extension": ".py",
   "mimetype": "text/x-python",
   "name": "python",
   "nbconvert_exporter": "python",
   "pygments_lexer": "ipython3",
   "version": "3.10.10"
  },
  "orig_nbformat": 4
 },
 "nbformat": 4,
 "nbformat_minor": 2
}
